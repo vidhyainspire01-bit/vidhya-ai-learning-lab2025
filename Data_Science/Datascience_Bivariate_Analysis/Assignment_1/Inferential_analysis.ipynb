{
 "cells": [
  {
   "cell_type": "markdown",
   "id": "229cf011-4e77-4f00-a679-c547b0d0de06",
   "metadata": {},
   "source": [
    "Inferential Analysis_QuestionS_Placement Dataset"
   ]
  },
  {
   "cell_type": "code",
   "execution_count": null,
   "id": "4ecb1732-4d9b-45b2-a6bc-3700a9203659",
   "metadata": {},
   "outputs": [],
   "source": [
    "# 1)Replace the NaN values with correct value. And justify why you have chosen the same"
   ]
  },
  {
   "cell_type": "code",
   "execution_count": null,
   "id": "ceb8ac72-d524-434a-b0a7-793bca3212bc",
   "metadata": {},
   "outputs": [],
   "source": [
    " # 2)How many of them are not placed?\n"
   ]
  },
  {
   "cell_type": "code",
   "execution_count": null,
   "id": "55a77007-72e3-4148-99ab-e2ecf27e4d3f",
   "metadata": {},
   "outputs": [],
   "source": [
    "# 3)Find the reason for non placement from the dataset?"
   ]
  },
  {
   "cell_type": "code",
   "execution_count": null,
   "id": "9dd5e071-d818-4dcd-b278-53c2e32b00d6",
   "metadata": {},
   "outputs": [],
   "source": [
    "# 4)What kind of relation between salary and mba_p?"
   ]
  },
  {
   "cell_type": "code",
   "execution_count": null,
   "id": "b469f779-db79-482b-a5a1-952b9391108f",
   "metadata": {},
   "outputs": [],
   "source": [
    "# 5)Which specialization is getting minimum salary?\n"
   ]
  },
  {
   "cell_type": "code",
   "execution_count": null,
   "id": "dfea488d-e6a7-43d8-816f-69aae5ba9eb2",
   "metadata": {},
   "outputs": [],
   "source": [
    "#6)How many of them getting above 500000 salary?"
   ]
  },
  {
   "cell_type": "code",
   "execution_count": null,
   "id": "068f5a3e-960d-4db0-b750-79c49a7244ad",
   "metadata": {},
   "outputs": [],
   "source": [
    "# 7)Test the Analysis of Variance between etest_p and mba_p at signifance level 5%.(Make decision using Hypothesis Testing)\n"
   ]
  },
  {
   "cell_type": "code",
   "execution_count": null,
   "id": "707fc7d6-9fd2-4176-9b68-d81d6bffb820",
   "metadata": {},
   "outputs": [],
   "source": [
    "# 8)Test the similarity between the degree_t(Sci&Tech) and specialisation(Mkt&HR) with respect to salary at significance level of 5%.(Make decision using Hypothesis Testing)\n"
   ]
  },
  {
   "cell_type": "code",
   "execution_count": null,
   "id": "64b402cb-6f12-456c-9cc5-a95fbf6a8256",
   "metadata": {},
   "outputs": [],
   "source": [
    "# 9)Convert the normal distribution to standard normal distribution for salary column\n"
   ]
  },
  {
   "cell_type": "code",
   "execution_count": null,
   "id": "86161c1c-cd56-4770-af56-0dfdafafc251",
   "metadata": {},
   "outputs": [],
   "source": [
    "# 10)What is the probability Density Function of the salary range from 700000 to 900000\n"
   ]
  },
  {
   "cell_type": "code",
   "execution_count": null,
   "id": "e2d78d7c-f1c0-4ee1-b85e-33a32d1978bd",
   "metadata": {},
   "outputs": [],
   "source": [
    "# 11)Test the similarity between the degree_t(Sci&Tech)with respect to etest_p and mba_p at significance level of 5%.(Make decision using Hy-pothesis Testing)\n"
   ]
  },
  {
   "cell_type": "code",
   "execution_count": null,
   "id": "b1f94326-d807-44d2-a4ea-cb79f29f6780",
   "metadata": {},
   "outputs": [],
   "source": [
    "#12)Which parameter is highly correlated with salary?\n"
   ]
  },
  {
   "cell_type": "code",
   "execution_count": null,
   "id": "8ee11f23-e95d-4a65-9118-392d61293ed3",
   "metadata": {},
   "outputs": [],
   "source": [
    "#13) plot any useful graph and explain it."
   ]
  }
 ],
 "metadata": {
  "kernelspec": {
   "display_name": "Python 3 (ipykernel)",
   "language": "python",
   "name": "python3"
  },
  "language_info": {
   "codemirror_mode": {
    "name": "ipython",
    "version": 3
   },
   "file_extension": ".py",
   "mimetype": "text/x-python",
   "name": "python",
   "nbconvert_exporter": "python",
   "pygments_lexer": "ipython3",
   "version": "3.11.13"
  }
 },
 "nbformat": 4,
 "nbformat_minor": 5
}

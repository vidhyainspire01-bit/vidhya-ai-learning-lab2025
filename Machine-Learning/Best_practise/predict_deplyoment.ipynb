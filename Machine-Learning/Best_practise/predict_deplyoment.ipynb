{
 "cells": [
  {
   "cell_type": "code",
   "execution_count": 1,
   "id": "f9471c60-3485-49b0-ae52-a50dcefcb974",
   "metadata": {},
   "outputs": [
    {
     "name": "stdout",
     "output_type": "stream",
     "text": [
      "Predicted Profit: 108290.24466090921\n"
     ]
    }
   ],
   "source": [
    "# predict_example.py\n",
    "import joblib\n",
    "import pandas as pd\n",
    "\n",
    "bundle = joblib.load(\"pipeline_v1.joblib\")\n",
    "pipeline = bundle[\"pipeline\"]\n",
    "meta = bundle[\"meta\"]\n",
    "raw_features = meta[\"raw_features\"]\n",
    "\n",
    "# Example raw single sample (values must use real column names)\n",
    "raw_input = {\n",
    "    \"R&D Spend\": 1000.0,\n",
    "    \"Administration\": 3000.0,\n",
    "    \"Marketing Spend\": 3469.0,\n",
    "    \"State\": \"California\"   # must be one of your training states or unseen (handle_unknown='ignore' protects)\n",
    "}\n",
    "\n",
    "# Create DataFrame with one row and ensure columns appear in expected order:\n",
    "X_single = pd.DataFrame([raw_input])[raw_features]\n",
    "\n",
    "pred = pipeline.predict(X_single)   # pipeline handles preprocessing\n",
    "print(\"Predicted Profit:\", pred[0])\n"
   ]
  },
  {
   "cell_type": "code",
   "execution_count": null,
   "id": "ead99cc2-2f19-48d1-b4f1-d675f4f5262f",
   "metadata": {},
   "outputs": [],
   "source": []
  }
 ],
 "metadata": {
  "kernelspec": {
   "display_name": "Python 3 (ipykernel)",
   "language": "python",
   "name": "python3"
  },
  "language_info": {
   "codemirror_mode": {
    "name": "ipython",
    "version": 3
   },
   "file_extension": ".py",
   "mimetype": "text/x-python",
   "name": "python",
   "nbconvert_exporter": "python",
   "pygments_lexer": "ipython3",
   "version": "3.11.13"
  }
 },
 "nbformat": 4,
 "nbformat_minor": 5
}

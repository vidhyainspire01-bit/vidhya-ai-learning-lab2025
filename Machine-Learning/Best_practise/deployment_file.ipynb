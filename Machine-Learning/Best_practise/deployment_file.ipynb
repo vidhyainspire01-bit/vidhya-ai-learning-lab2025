{
 "cells": [
  {
   "cell_type": "code",
   "execution_count": 6,
   "id": "7e6ca2ec-6b41-402b-b47f-8ba303ebafc3",
   "metadata": {},
   "outputs": [
    {
     "data": {
      "text/plain": [
       "array([107880.63808753])"
      ]
     },
     "execution_count": 6,
     "metadata": {},
     "output_type": "execute_result"
    }
   ],
   "source": [
    "import pickle\n",
    "import pandas as pd\n",
    "from sklearn.model_selection import train_test_split\n",
    "from sklearn.preprocessing import StandardScaler\n",
    "\n",
    "dataset=pd.read_csv(\"50_Startups.csv\")\n",
    "dataset = pd.get_dummies(dataset, drop_first=True)\n",
    "dataset = dataset.astype(int)\n",
    "X = dataset.drop(columns=\"Profit\")\n",
    "y = dataset[[\"Profit\"]]\n",
    "X_train,X_test,y_train,y_test=train_test_split(X,y,test_size=0.25,random_state=0)\n",
    "sc=StandardScaler()\n",
    "X_train=sc.fit_transform(X_train)\n",
    "X_test=sc.transform(X_test)\n",
    "loded_model=pickle.load(open(\"finalized_model_svr.sav\",'rb'))\n",
    "result=loded_model.predict (preinput)\n",
    "result"
   ]
  },
  {
   "cell_type": "code",
   "execution_count": null,
   "id": "9da15bac-cca3-41f4-add7-a485a2950b6e",
   "metadata": {},
   "outputs": [],
   "source": []
  }
 ],
 "metadata": {
  "kernelspec": {
   "display_name": "Python 3 (ipykernel)",
   "language": "python",
   "name": "python3"
  },
  "language_info": {
   "codemirror_mode": {
    "name": "ipython",
    "version": 3
   },
   "file_extension": ".py",
   "mimetype": "text/x-python",
   "name": "python",
   "nbconvert_exporter": "python",
   "pygments_lexer": "ipython3",
   "version": "3.11.13"
  }
 },
 "nbformat": 4,
 "nbformat_minor": 5
}

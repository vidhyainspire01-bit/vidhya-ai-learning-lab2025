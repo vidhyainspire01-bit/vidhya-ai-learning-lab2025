{
 "cells": [
  {
   "cell_type": "code",
   "execution_count": 6,
   "id": "f570c750-e551-46a7-8c1a-c1fca42ca9be",
   "metadata": {},
   "outputs": [
    {
     "name": "stdout",
     "output_type": "stream",
     "text": [
      "\n",
      "Model: Logistic | Acc: 0.9600 | Selected: ['al', 'hrmo', 'pcv', 'rc', 'sg_b', 'sg_c', 'sg_d', 'dm_yes']\n",
      "\n",
      "Model: SVMl | Acc: 0.9800 | Selected: ['al', 'hrmo', 'pcv', 'rc', 'sg_b', 'sg_c', 'sg_d', 'dm_yes']\n",
      "\n",
      "Model: SVMnl | Acc: 0.9700 | Selected: ['al', 'hrmo', 'pcv', 'rc', 'sg_b', 'sg_c', 'sg_d', 'dm_yes']\n",
      "\n",
      "Model: KNN | Acc: 0.9600 | Selected: ['al', 'hrmo', 'pcv', 'rc', 'sg_b', 'sg_c', 'sg_d', 'dm_yes']\n",
      "\n",
      "Model: Navie | Acc: 0.9700 | Selected: ['al', 'hrmo', 'pcv', 'rc', 'sg_b', 'sg_c', 'sg_d', 'dm_yes']\n",
      "\n",
      "Model: Decision | Acc: 0.9300 | Selected: ['al', 'bgr', 'sc', 'hrmo', 'pcv', 'rc', 'sg_d', 'htn_yes']\n",
      "\n",
      "Model: Random | Acc: 0.9800 | Selected: ['al', 'bgr', 'sc', 'hrmo', 'pcv', 'rc', 'sg_d', 'htn_yes']\n",
      "\n",
      "Summary:\n",
      "      model  test_acc\n",
      "1      SVMl      0.98\n",
      "6    Random      0.98\n",
      "2     SVMnl      0.97\n",
      "4     Navie      0.97\n",
      "0  Logistic      0.96\n",
      "3       KNN      0.96\n",
      "5  Decision      0.93\n"
     ]
    }
   ],
   "source": [
    "from sklearn.preprocessing import StandardScaler\n",
    "from sklearn.feature_selection import RFE\n",
    "from sklearn.pipeline import Pipeline\n",
    "from sklearn.metrics import accuracy_score\n",
    "from sklearn.linear_model import LogisticRegression\n",
    "from sklearn.ensemble import RandomForestClassifier\n",
    "\n",
    "n_features = 8\n",
    "\n",
    "# choose a ranker that exposes coef_ or feature_importances_\n",
    "ranker_for_linear = LogisticRegression(max_iter=5000, solver=\"liblinear\")\n",
    "ranker_for_tree = RandomForestClassifier(n_estimators=50, random_state=0)\n",
    "\n",
    "model_defs = {\n",
    "    \"Logistic\": (LogisticRegression(max_iter=5000, solver=\"liblinear\"), True, ranker_for_linear),\n",
    "    \"SVMl\": (SVC(kernel=\"linear\", random_state=0), True, ranker_for_linear),   # linear SVC can use coef_\n",
    "    \"SVMnl\": (SVC(kernel=\"rbf\", random_state=0), True, ranker_for_linear),     # use logistic ranker for RFE\n",
    "    \"KNN\": (KNeighborsClassifier(n_neighbors=5), True, ranker_for_linear),\n",
    "    \"Navie\": (GaussianNB(), True, ranker_for_linear),\n",
    "    \"Decision\": (DecisionTreeClassifier(criterion=\"entropy\", random_state=0), False, ranker_for_tree),\n",
    "    \"Random\": (RandomForestClassifier(n_estimators=100, random_state=0), False, ranker_for_tree),\n",
    "}\n",
    "\n",
    "results = []\n",
    "for name, (final_clf, std_before, ranker) in model_defs.items():\n",
    "    steps = []\n",
    "    if std_before:\n",
    "        steps.append((\"std\", StandardScaler()))\n",
    "    steps.append((\"rfe\", RFE(estimator=ranker, n_features_to_select=n_features)))\n",
    "    steps.append((\"clf\", final_clf))\n",
    "    pipe = Pipeline(steps)\n",
    "\n",
    "    pipe.fit(X_train, y_train)   # RFE uses 'ranker' to rank; final_clf is re-fit on selected features\n",
    "\n",
    "    selected_mask = pipe.named_steps[\"rfe\"].get_support()\n",
    "    features = X.columns[selected_mask].tolist()\n",
    "    y_pred = pipe.predict(X_test)\n",
    "    acc = accuracy_score(y_test, y_pred)\n",
    "\n",
    "    print(f\"\\nModel: {name} | Acc: {acc:.4f} | Selected: {features}\")\n",
    "    results.append((name, acc))\n",
    "\n",
    "# summary\n",
    "print(\"\\nSummary:\")\n",
    "print(pd.DataFrame(results, columns=[\"model\",\"test_acc\"]).sort_values(\"test_acc\", ascending=False))\n"
   ]
  },
  {
   "cell_type": "code",
   "execution_count": null,
   "id": "4f8f55b2-8df9-488d-bd09-c9146b412c08",
   "metadata": {},
   "outputs": [],
   "source": []
  }
 ],
 "metadata": {
  "kernelspec": {
   "display_name": "Python 3 (ipykernel)",
   "language": "python",
   "name": "python3"
  },
  "language_info": {
   "codemirror_mode": {
    "name": "ipython",
    "version": 3
   },
   "file_extension": ".py",
   "mimetype": "text/x-python",
   "name": "python",
   "nbconvert_exporter": "python",
   "pygments_lexer": "ipython3",
   "version": "3.11.13"
  }
 },
 "nbformat": 4,
 "nbformat_minor": 5
}

{
 "cells": [
  {
   "cell_type": "code",
   "execution_count": 20,
   "id": "54489cae-6693-43bf-8619-6fc6ca2a56c4",
   "metadata": {},
   "outputs": [
    {
     "name": "stdout",
     "output_type": "stream",
     "text": [
      "3620\n"
     ]
    }
   ],
   "source": [
    "items=['a','b','c','d','e','f']\n",
    "items_cost={'a':100,'b':1000,'c':400,'d':700,'e':520,'f':900}\n",
    "list=[]\n",
    "for item in items:\n",
    "    num=items_cost[item]\n",
    "    list.append(num)\n",
    "    total=sum(list)\n",
    "print(total)"
   ]
  },
  {
   "cell_type": "code",
   "execution_count": 14,
   "id": "1022806d-ba1b-4ebe-bea5-dbdb4c498ef5",
   "metadata": {},
   "outputs": [
    {
     "data": {
      "text/plain": [
       "3620"
      ]
     },
     "execution_count": 14,
     "metadata": {},
     "output_type": "execute_result"
    }
   ],
   "source": [
    "cost=sum(items_cost[i] for i in items)\n",
    "cost"
   ]
  },
  {
   "cell_type": "code",
   "execution_count": 23,
   "id": "5ad34af2-1d4a-4d5c-9237-76c5829b7e31",
   "metadata": {},
   "outputs": [
    {
     "data": {
      "text/plain": [
       "2638.98"
      ]
     },
     "execution_count": 23,
     "metadata": {},
     "output_type": "execute_result"
    }
   ],
   "source": [
    "discount=0.1\n",
    "if total > 200:\n",
    " #total=total-total*discount\n",
    "    total-=total*discount\n",
    "total"
   ]
  },
  {
   "cell_type": "code",
   "execution_count": null,
   "id": "4ff08f77-f490-486f-a037-e821c79982ce",
   "metadata": {},
   "outputs": [],
   "source": []
  },
  {
   "cell_type": "code",
   "execution_count": null,
   "id": "42482e63-78c3-4ed6-83fc-97ca2b65519b",
   "metadata": {},
   "outputs": [],
   "source": []
  }
 ],
 "metadata": {
  "kernelspec": {
   "display_name": "Python 3 (ipykernel)",
   "language": "python",
   "name": "python3"
  },
  "language_info": {
   "codemirror_mode": {
    "name": "ipython",
    "version": 3
   },
   "file_extension": ".py",
   "mimetype": "text/x-python",
   "name": "python",
   "nbconvert_exporter": "python",
   "pygments_lexer": "ipython3",
   "version": "3.11.13"
  }
 },
 "nbformat": 4,
 "nbformat_minor": 5
}
